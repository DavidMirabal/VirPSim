{
 "cells": [
  {
   "cell_type": "markdown",
   "metadata": {},
   "source": [
    "# VIRus Particle SIMulation with collisions (VirPSim)\n",
    "\n",
    "This tool simulates the elastic collision of particles in a closed system. Each particle can be in one of four states: vulnerable, infected, immune or dead. The program models the random movement of particles and allows visualization of the evolution of particle states over time. A NVIDIA graphics card (with CUDA drivers) can be used to optimize the simulation.\n",
    "\n",
    "## Features\n",
    "- Simulates the random movement of particles in a closed system\n",
    "- Models elastic collisions between particles\n",
    "- Tracks and visualizes the states of particles (vulnerable, infected, immune, dead)\n",
    "\n",
    "\n",
    "## Example Code"
   ]
  },
  {
   "cell_type": "code",
   "execution_count": 23,
   "metadata": {},
   "outputs": [],
   "source": [
    "import torch\n",
    "import utils"
   ]
  },
  {
   "cell_type": "code",
   "execution_count": 24,
   "metadata": {},
   "outputs": [],
   "source": [
    "device = torch.device('cuda' if torch.cuda.is_available() else 'cpu')"
   ]
  },
  {
   "cell_type": "markdown",
   "metadata": {},
   "source": [
    "### Properties of the simulation"
   ]
  },
  {
   "cell_type": "code",
   "execution_count": 25,
   "metadata": {},
   "outputs": [],
   "source": [
    "dir_images = './images'   #directory to save the images\n",
    "title = 'N4k'  #title of the video\n",
    "fps = 30\n",
    "resize = 1   #resize of the images into the video\n",
    "frames = 200  #number of frames of the video\n",
    "\n",
    "N = 4000   #number of particles\n",
    "v_mean = 3  #mean velocity of the particles, they follow a normal distribution with this mean\n",
    "scale = 10  #scale of the simulation (dimension of the box)\n",
    "radius = 0.07  #radius of the particles\n",
    "\n",
    "dt = 0.01   #time step in the simulation\n",
    "\n",
    "per_healthy = 0.98  #percentage of healthy people\n",
    "per_sick = 0.01  #percentage of sick people\n",
    "#if the two before numbers do not add up to 1, the remaining particle will be immune\n",
    "prob_sick = 0.4 #probability of getting sick if you are close to a sick person\n",
    "prob_imm_imm=0.001 #probability of getting immune if you are a sick person\n",
    "time_die = 1.3 #time (on average) to die if you are sick"
   ]
  },
  {
   "cell_type": "markdown",
   "metadata": {},
   "source": [
    "### Initialize the simulation"
   ]
  },
  {
   "cell_type": "code",
   "execution_count": 26,
   "metadata": {},
   "outputs": [],
   "source": [
    "sim = utils.simulation(N, v_mean, \n",
    "                       per_healthy, per_sick, \n",
    "                       prob_sick, prob_imm_imm, time_die, \n",
    "                       radius, scale, \n",
    "                       dt, device, frames, \n",
    "                       dir_images)"
   ]
  },
  {
   "cell_type": "markdown",
   "metadata": {},
   "source": [
    "### Run the simulation\n",
    "\n",
    "Generates the images of each frame"
   ]
  },
  {
   "cell_type": "code",
   "execution_count": 27,
   "metadata": {},
   "outputs": [
    {
     "name": "stderr",
     "output_type": "stream",
     "text": [
      "Progreso:  40%|████      | 80/200 [01:04<01:40,  1.19it/s]"
     ]
    }
   ],
   "source": [
    "sim.run_simulation()"
   ]
  },
  {
   "cell_type": "markdown",
   "metadata": {},
   "source": [
    "### Make the video\n",
    "\n",
    "Concatenate the images to form a video."
   ]
  },
  {
   "cell_type": "code",
   "execution_count": null,
   "metadata": {},
   "outputs": [
    {
     "name": "stdout",
     "output_type": "stream",
     "text": [
      "['im_0.jpg', 'im_1.jpg', 'im_2.jpg', 'im_3.jpg', 'im_4.jpg', 'im_5.jpg', 'im_6.jpg', 'im_7.jpg', 'im_8.jpg', 'im_9.jpg', 'im_10.jpg', 'im_11.jpg', 'im_12.jpg', 'im_13.jpg', 'im_14.jpg', 'im_15.jpg', 'im_16.jpg', 'im_17.jpg', 'im_18.jpg', 'im_19.jpg', 'im_20.jpg', 'im_21.jpg', 'im_22.jpg', 'im_23.jpg', 'im_24.jpg', 'im_25.jpg', 'im_26.jpg', 'im_27.jpg', 'im_28.jpg', 'im_29.jpg', 'im_30.jpg', 'im_31.jpg', 'im_32.jpg', 'im_33.jpg', 'im_34.jpg', 'im_35.jpg', 'im_36.jpg', 'im_37.jpg', 'im_38.jpg', 'im_39.jpg', 'im_40.jpg', 'im_41.jpg', 'im_42.jpg', 'im_43.jpg', 'im_44.jpg', 'im_45.jpg', 'im_46.jpg', 'im_47.jpg', 'im_48.jpg', 'im_49.jpg', 'im_50.jpg', 'im_51.jpg', 'im_52.jpg', 'im_53.jpg', 'im_54.jpg', 'im_55.jpg', 'im_56.jpg', 'im_57.jpg', 'im_58.jpg', 'im_59.jpg', 'im_60.jpg', 'im_61.jpg', 'im_62.jpg', 'im_63.jpg', 'im_64.jpg', 'im_65.jpg', 'im_66.jpg', 'im_67.jpg', 'im_68.jpg', 'im_69.jpg', 'im_70.jpg', 'im_71.jpg', 'im_72.jpg', 'im_73.jpg', 'im_74.jpg', 'im_75.jpg', 'im_76.jpg', 'im_77.jpg', 'im_78.jpg', 'im_79.jpg', 'im_80.jpg', 'im_81.jpg', 'im_82.jpg', 'im_83.jpg', 'im_84.jpg', 'im_85.jpg', 'im_86.jpg', 'im_87.jpg', 'im_88.jpg', 'im_89.jpg', 'im_90.jpg', 'im_91.jpg', 'im_92.jpg', 'im_93.jpg', 'im_94.jpg', 'im_95.jpg', 'im_96.jpg', 'im_97.jpg', 'im_98.jpg', 'im_99.jpg', 'im_100.jpg', 'im_101.jpg', 'im_102.jpg', 'im_103.jpg', 'im_104.jpg', 'im_105.jpg', 'im_106.jpg', 'im_107.jpg', 'im_108.jpg', 'im_109.jpg', 'im_110.jpg', 'im_111.jpg', 'im_112.jpg', 'im_113.jpg', 'im_114.jpg', 'im_115.jpg', 'im_116.jpg', 'im_117.jpg', 'im_118.jpg', 'im_119.jpg', 'im_120.jpg', 'im_121.jpg', 'im_122.jpg', 'im_123.jpg', 'im_124.jpg', 'im_125.jpg', 'im_126.jpg', 'im_127.jpg', 'im_128.jpg', 'im_129.jpg', 'im_130.jpg', 'im_131.jpg', 'im_132.jpg', 'im_133.jpg', 'im_134.jpg', 'im_135.jpg', 'im_136.jpg', 'im_137.jpg', 'im_138.jpg', 'im_139.jpg', 'im_140.jpg', 'im_141.jpg', 'im_142.jpg', 'im_143.jpg', 'im_144.jpg', 'im_145.jpg', 'im_146.jpg', 'im_147.jpg', 'im_148.jpg', 'im_149.jpg', 'im_150.jpg', 'im_151.jpg', 'im_152.jpg', 'im_153.jpg', 'im_154.jpg', 'im_155.jpg', 'im_156.jpg', 'im_157.jpg', 'im_158.jpg', 'im_159.jpg', 'im_160.jpg', 'im_161.jpg', 'im_162.jpg', 'im_163.jpg', 'im_164.jpg', 'im_165.jpg', 'im_166.jpg', 'im_167.jpg', 'im_168.jpg', 'im_169.jpg', 'im_170.jpg', 'im_171.jpg', 'im_172.jpg', 'im_173.jpg', 'im_174.jpg', 'im_175.jpg', 'im_176.jpg', 'im_177.jpg', 'im_178.jpg', 'im_179.jpg', 'im_180.jpg', 'im_181.jpg', 'im_182.jpg', 'im_183.jpg', 'im_184.jpg', 'im_185.jpg', 'im_186.jpg', 'im_187.jpg', 'im_188.jpg', 'im_189.jpg', 'im_190.jpg', 'im_191.jpg', 'im_192.jpg', 'im_193.jpg', 'im_194.jpg', 'im_195.jpg', 'im_196.jpg', 'im_197.jpg', 'im_198.jpg', 'im_199.jpg']\n",
      "Done!\n"
     ]
    }
   ],
   "source": [
    "sim.make_video(title, fps, resize)"
   ]
  },
  {
   "cell_type": "code",
   "execution_count": null,
   "metadata": {},
   "outputs": [],
   "source": [
    "sim.save_data('data.txt')"
   ]
  }
 ],
 "metadata": {
  "kernelspec": {
   "display_name": "base",
   "language": "python",
   "name": "python3"
  },
  "language_info": {
   "codemirror_mode": {
    "name": "ipython",
    "version": 3
   },
   "file_extension": ".py",
   "mimetype": "text/x-python",
   "name": "python",
   "nbconvert_exporter": "python",
   "pygments_lexer": "ipython3",
   "version": "3.10.9"
  }
 },
 "nbformat": 4,
 "nbformat_minor": 2
}
